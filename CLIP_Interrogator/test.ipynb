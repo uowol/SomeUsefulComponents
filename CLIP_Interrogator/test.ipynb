{
 "cells": [
  {
   "cell_type": "code",
   "execution_count": 3,
   "metadata": {},
   "outputs": [
    {
     "name": "stdout",
     "output_type": "stream",
     "text": [
      "Loading BLIP model...\n",
      "load checkpoint from https://storage.googleapis.com/sfr-vision-language-research/BLIP/models/model_base_caption_capfilt_large.pth\n",
      "Loading CLIP model...\n",
      "Loaded CLIP model and data in 5.55 seconds.\n"
     ]
    }
   ],
   "source": [
    "from PIL import Image\n",
    "from clip_interrogator import Config, Interrogator\n",
    "\n",
    "image_path = './A horse in the space.png'\n",
    "\n",
    "image = Image.open(image_path).convert('RGB')\n",
    "ci = Interrogator(Config(clip_model_name=\"ViT-L-14/openai\", chunk_size=1024, flavor_intermediate_count=1024, blip_model_type='base', quiet=False))"
   ]
  },
  {
   "cell_type": "code",
   "execution_count": 4,
   "metadata": {},
   "outputs": [
    {
     "name": "stderr",
     "output_type": "stream",
     "text": [
      "100%|██████████| 110/110 [00:00<00:00, 147.29it/s]\n",
      "Flavor chain:  31%|███▏      | 10/32 [04:17<09:27, 25.79s/it]\n",
      "100%|██████████| 110/110 [00:00<00:00, 146.77it/s]\n",
      "100%|██████████| 11/11 [00:00<00:00, 233.99it/s]\n",
      "100%|██████████| 99/99 [00:00<00:00, 232.78it/s]\n"
     ]
    },
    {
     "name": "stdout",
     "output_type": "stream",
     "text": [
      "a group of horses running through a space filled with stars, jerma, google images search result, inspired by Charles Fremont Conner, travis scott flying over earth, very coherent image, animorphs, youtube thumbnail, euphoric, under outer world forrest, rdr2\n"
     ]
    }
   ],
   "source": [
    "result = ci.interrogate(image)\n",
    "print(result)"
   ]
  },
  {
   "cell_type": "code",
   "execution_count": null,
   "metadata": {},
   "outputs": [],
   "source": []
  }
 ],
 "metadata": {
  "kernelspec": {
   "display_name": "dev",
   "language": "python",
   "name": "python3"
  },
  "language_info": {
   "codemirror_mode": {
    "name": "ipython",
    "version": 3
   },
   "file_extension": ".py",
   "mimetype": "text/x-python",
   "name": "python",
   "nbconvert_exporter": "python",
   "pygments_lexer": "ipython3",
   "version": "3.9.15"
  },
  "orig_nbformat": 4,
  "vscode": {
   "interpreter": {
    "hash": "3e13486f50ad8491adee3900c65648710623e910042c80717865a7ec3732c806"
   }
  }
 },
 "nbformat": 4,
 "nbformat_minor": 2
}
