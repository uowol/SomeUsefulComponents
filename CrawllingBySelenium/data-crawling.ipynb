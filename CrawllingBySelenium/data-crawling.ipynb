{
 "cells": [
  {
   "cell_type": "code",
   "execution_count": 19,
   "metadata": {},
   "outputs": [],
   "source": [
    "# Components\n",
    "from selenium import webdriver\n",
    "from selenium.webdriver.common.by import By\n",
    "from selenium.webdriver.common.action_chains import ActionChains\n",
    "import sys, os, time\n",
    "import pyautogui\n",
    "\n",
    "id_from = 18243\n",
    "id_to = 18324\n",
    "options = webdriver.ChromeOptions();\n",
    "prefs = {\"download.default_directory\" : r\"C:\\Users\\alllh\\Desktop\\경찰 데이터 공모전\\데이터수집\"};\n",
    "options.add_experimental_option(\"prefs\",prefs);\n",
    "\n",
    "def SaveAs(driver, target):\n",
    "    actionChains = ActionChains(driver)\n",
    "    actionChains.context_click(target).perform()\n",
    "    time.sleep(1)\n",
    "    pyautogui.press('down')\n",
    "    pyautogui.press('down')\n",
    "    pyautogui.press('down')\n",
    "    pyautogui.press('enter')\n",
    "    time.sleep(1)\n",
    "    pyautogui.press('enter')\n",
    "    time.sleep(1)"
   ]
  },
  {
   "cell_type": "code",
   "execution_count": 17,
   "metadata": {},
   "outputs": [
    {
     "name": "stderr",
     "output_type": "stream",
     "text": [
      "C:\\Users\\alllh\\AppData\\Local\\Temp\\ipykernel_9256\\2865911021.py:1: DeprecationWarning: executable_path has been deprecated, please pass in a Service object\n",
      "  driver = webdriver.Chrome(executable_path='./chromedriver',chrome_options=options);\n",
      "C:\\Users\\alllh\\AppData\\Local\\Temp\\ipykernel_9256\\2865911021.py:1: DeprecationWarning: use options instead of chrome_options\n",
      "  driver = webdriver.Chrome(executable_path='./chromedriver',chrome_options=options);\n"
     ]
    }
   ],
   "source": [
    "# 바로 이 목소리\n",
    "driver = webdriver.Chrome(executable_path='./chromedriver',chrome_options=options);\n",
    "try:\n",
    "    for id in range(id_from, id_to+1):\n",
    "        URL = f'https://www.fss.or.kr/fss/bbs/B0000203/view.do?nttId={id}&menuNo=200686&sdate=&edate=&searchCnd=1&searchWrd=&pageIndex=11'\n",
    "        driver.get(URL);\n",
    "        download_audio_file = driver.find_element(By.CSS_SELECTOR,'#content > div.bd-view > dl.file-list > dd > a');\n",
    "        download_audio_file.click();\n",
    "        time.sleep(2);\n",
    "    time.sleep(30);\n",
    "    driver.close();\n",
    "except:\n",
    "     print(\"Invalid URL\")"
   ]
  },
  {
   "cell_type": "code",
   "execution_count": 24,
   "metadata": {},
   "outputs": [
    {
     "name": "stderr",
     "output_type": "stream",
     "text": [
      "C:\\Users\\alllh\\AppData\\Local\\Temp\\ipykernel_9256\\227751830.py:2: DeprecationWarning: executable_path has been deprecated, please pass in a Service object\n",
      "  driver = webdriver.Chrome(executable_path='./chromedriver',chrome_options=options);\n",
      "C:\\Users\\alllh\\AppData\\Local\\Temp\\ipykernel_9256\\227751830.py:2: DeprecationWarning: use options instead of chrome_options\n",
      "  driver = webdriver.Chrome(executable_path='./chromedriver',chrome_options=options);\n"
     ]
    }
   ],
   "source": [
    "# 그놈목소리_수사기관사칭형\n",
    "driver = webdriver.Chrome(executable_path='./chromedriver',chrome_options=options);\n",
    "for id in range(36334, 36745+1):\n",
    "    try:\n",
    "        URL = f'https://www.fss.or.kr/fss/bbs/B0000207/view.do?nttId={id}&menuNo=200691&pageIndex=1'\n",
    "        driver.get(URL);\n",
    "        download_audio_file = driver.find_element(By.CSS_SELECTOR,'#content > div.bd-view > div > video');\n",
    "        SaveAs(driver, download_audio_file);\n",
    "    except: pass\n",
    "time.sleep(20);\n",
    "driver.close();"
   ]
  },
  {
   "cell_type": "code",
   "execution_count": 25,
   "metadata": {},
   "outputs": [
    {
     "name": "stderr",
     "output_type": "stream",
     "text": [
      "C:\\Users\\alllh\\AppData\\Local\\Temp\\ipykernel_9256\\3443122455.py:2: DeprecationWarning: executable_path has been deprecated, please pass in a Service object\n",
      "  driver = webdriver.Chrome(executable_path='./chromedriver',chrome_options=options);\n",
      "C:\\Users\\alllh\\AppData\\Local\\Temp\\ipykernel_9256\\3443122455.py:2: DeprecationWarning: use options instead of chrome_options\n",
      "  driver = webdriver.Chrome(executable_path='./chromedriver',chrome_options=options);\n"
     ]
    }
   ],
   "source": [
    "# 그놈목소리_대출사기형\n",
    "driver = webdriver.Chrome(executable_path='./chromedriver',chrome_options=options);\n",
    "for id in range(36337, 36744+1):\n",
    "    try:\n",
    "        URL = f'https://www.fss.or.kr/fss/bbs/B0000206/view.do?nttId={id}&menuNo=200690&sdate=&edate=&searchCnd=1&searchWrd=&pageIndex=19'\n",
    "        driver.get(URL);\n",
    "        download_audio_file = driver.find_element(By.CSS_SELECTOR,'#content > div.bd-view > div > video');\n",
    "        SaveAs(driver, download_audio_file);\n",
    "    except: pass\n",
    "time.sleep(20);\n",
    "driver.close();"
   ]
  },
  {
   "cell_type": "code",
   "execution_count": null,
   "metadata": {},
   "outputs": [],
   "source": []
  }
 ],
 "metadata": {
  "kernelspec": {
   "display_name": "dev",
   "language": "python",
   "name": "python3"
  },
  "language_info": {
   "codemirror_mode": {
    "name": "ipython",
    "version": 3
   },
   "file_extension": ".py",
   "mimetype": "text/x-python",
   "name": "python",
   "nbconvert_exporter": "python",
   "pygments_lexer": "ipython3",
   "version": "3.9.15"
  },
  "orig_nbformat": 4,
  "vscode": {
   "interpreter": {
    "hash": "3e13486f50ad8491adee3900c65648710623e910042c80717865a7ec3732c806"
   }
  }
 },
 "nbformat": 4,
 "nbformat_minor": 2
}
